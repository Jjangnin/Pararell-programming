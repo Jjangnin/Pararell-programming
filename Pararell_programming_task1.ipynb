{
  "nbformat": 4,
  "nbformat_minor": 0,
  "metadata": {
    "colab": {
      "provenance": [],
      "gpuType": "T4"
    },
    "kernelspec": {
      "name": "python3",
      "display_name": "Python 3"
    },
    "language_info": {
      "name": "python"
    },
    "accelerator": "GPU"
  },
  "cells": [
    {
      "cell_type": "code",
      "source": [
        "%%writefile ImageLib.h\n",
        "\n",
        "#pragma once\n",
        "using byte = unsigned char;\n",
        "\n",
        "// 1D/2D/3D/4D 동적할당 & 해제\n",
        "double *dmatrix1D(int nH);\n",
        "double **dmatrix2D(int nH, int nW);\n",
        "double ***dmatrix3D(int nH, int nW, int nC);\n",
        "double ****dmatrix4D(int nH, int nW, int nC, int nNum);\n",
        "\n",
        "void free_dmatrix1D(double *Image, int nH);\n",
        "void free_dmatrix2D(double **Image, int nH, int nW);\n",
        "void free_dmatrix3D(double ***Image, int nH, int nW, int nC);\n",
        "void free_dmatrix4D(double ****Image, int nH, int nW, int nC, int nNum);"
      ],
      "metadata": {
        "colab": {
          "base_uri": "https://localhost:8080/"
        },
        "id": "HeVbDbs6jHAe",
        "outputId": "5e59c04f-c5af-4a67-c939-bf363ca69e3f"
      },
      "execution_count": null,
      "outputs": [
        {
          "output_type": "stream",
          "name": "stdout",
          "text": [
            "Writing ImageLib.h\n"
          ]
        }
      ]
    },
    {
      "cell_type": "code",
      "source": [
        "%%writefile ImageLib.cpp\n",
        "\n",
        "#include \"ImageLib.h\"\n",
        "\n",
        "double *dmatrix1D(int nH) {\n",
        "    return new double[nH]();\n",
        "}\n",
        "\n",
        "double **dmatrix2D(int nH, int nW) {\n",
        "    double **Temp = new double*[nH];\n",
        "    for (int y = 0; y < nH; ++y) {\n",
        "        Temp[y] = new double[nW]();\n",
        "    }\n",
        "    return Temp;\n",
        "}\n",
        "\n",
        "double ***dmatrix3D(int nH, int nW, int nC) {\n",
        "    double ***Temp = new double**[nH];\n",
        "    for (int y = 0; y < nH; ++y) {\n",
        "        Temp[y] = new double*[nW];\n",
        "        for (int x = 0; x < nW; ++x) {\n",
        "            Temp[y][x] = new double[nC]();\n",
        "        }\n",
        "    }\n",
        "    return Temp;\n",
        "}\n",
        "\n",
        "double ****dmatrix4D(int nH, int nW, int nC, int nNum) {\n",
        "    double ****Temp = new double***[nH];\n",
        "    for (int y = 0; y < nH; ++y) {\n",
        "        Temp[y] = new double**[nW];\n",
        "        for (int x = 0; x < nW; ++x) {\n",
        "            Temp[y][x] = new double*[nC];\n",
        "            for (int c = 0; c < nC; ++c) {\n",
        "                Temp[y][x][c] = new double[nNum]();\n",
        "            }\n",
        "        }\n",
        "    }\n",
        "    return Temp;\n",
        "}\n",
        "\n",
        "void free_dmatrix1D(double *Image, int) { delete[] Image; }\n",
        "\n",
        "void free_dmatrix2D(double **Image, int nH, int) {\n",
        "    for (int y = 0; y < nH; ++y) delete[] Image[y];\n",
        "    delete[] Image;\n",
        "}\n",
        "\n",
        "void free_dmatrix3D(double ***Image, int nH, int nW, int) {\n",
        "    for (int y = 0; y < nH; ++y) {\n",
        "        for (int x = 0; x < nW; ++x) delete[] Image[y][x];\n",
        "        delete[] Image[y];\n",
        "    }\n",
        "    delete[] Image;\n",
        "}\n",
        "\n",
        "void free_dmatrix4D(double ****Image, int nH, int nW, int nC, int) {\n",
        "    for (int y = 0; y < nH; ++y) {\n",
        "        for (int x = 0; x < nW; ++x) {\n",
        "            for (int c = 0; c < nC; ++c) delete[] Image[y][x][c];\n",
        "            delete[] Image[y][x];\n",
        "        }\n",
        "        delete[] Image[y];\n",
        "    }\n",
        "    delete[] Image;\n",
        "}"
      ],
      "metadata": {
        "colab": {
          "base_uri": "https://localhost:8080/"
        },
        "id": "Wse0ez-3SNnj",
        "outputId": "8e5758dc-3376-4922-f81a-d30058cd4bd1"
      },
      "execution_count": null,
      "outputs": [
        {
          "output_type": "stream",
          "name": "stdout",
          "text": [
            "Writing ImageLib.cpp\n"
          ]
        }
      ]
    },
    {
      "cell_type": "code",
      "source": [
        "%%writefile CTensor.h\n",
        "\n",
        "#pragma once\n",
        "#include \"ImageLib.h\"\n",
        "#include <iostream>\n",
        "\n",
        "/// Tensor3D는 크기가 (nH x nW x nC)인 3차원 tensor를 관리함\n",
        "class Tensor3D {\n",
        "private:\n",
        "    double*** tensor;\n",
        "    int nH; // height\n",
        "    int nW; // width\n",
        "    int nC; // channel\n",
        "\n",
        "public:\n",
        "    // 동작: 1) 3차원 행렬 동적할당 후 tensor에 시작 주소 저장\n",
        "    //       2) 모든 element 0으로 초기화\n",
        "    // 사용함수: dmatrix3D()\n",
        "    Tensor3D(int _nH, int _nW, int _nC) : tensor(nullptr), nH(_nH), nW(_nW), nC(_nC) {\n",
        "        tensor = dmatrix3D(nH, nW, nC);\n",
        "        // 0으로 초기화\n",
        "        for (int h = 0; h < nH; ++h) {\n",
        "            for (int w = 0; w < nW; ++w) {\n",
        "                for (int c = 0; c < nC; ++c) {\n",
        "                    tensor[h][w][c] = 0.0;\n",
        "                }\n",
        "            }\n",
        "        }\n",
        "    }\n",
        "\n",
        "    // 동작: 3차원 동적 배열 할당 해제\n",
        "    // 사용함수: free_dmatrix3D()\n",
        "    ~Tensor3D() {\n",
        "        if (tensor) {\n",
        "            free_dmatrix3D(tensor, nH, nW, nC);\n",
        "            tensor = nullptr;\n",
        "        }\n",
        "    }\n",
        "\n",
        "    // 특정 위치 원소 설정/조회\n",
        "    inline void set_elem(int _h, int _w, int _c, double _val) { tensor[_h][_w][_c] = _val; }\n",
        "\n",
        "    // 동작: 행=_h, 열=_w, 채널=_c 위치 element 반환\n",
        "    inline double get_elem(int _h, int _w, int _c) const {\n",
        "        return tensor[_h][_w][_c];\n",
        "    }\n",
        "\n",
        "    // 동작: 행렬의 차원(nH, nW, nC)을 pass by reference로 반환\n",
        "    inline void get_info(int& _nH, int& _nW, int& _nC) const {\n",
        "        _nH = nH; _nW = nW; _nC = nC;\n",
        "    }\n",
        "\n",
        "    inline void set_tensor(double*** _tensor) { tensor = _tensor; }\n",
        "    inline double*** get_tensor() const { return tensor; }\n",
        "\n",
        "    // 동작: 행렬의 크기 (nH*nW*nC)를 화면에 출력\n",
        "    void print() const {\n",
        "        std::cout << \"Tensor3D size: \"\n",
        "                  << nH << \" x \" << nW << \" x \" << nC\n",
        "                  << \" (\" << static_cast<long long>(nH) * nW * nC << \" elements)\"\n",
        "                  << std::endl;\n",
        "    }\n",
        "};"
      ],
      "metadata": {
        "colab": {
          "base_uri": "https://localhost:8080/"
        },
        "id": "UFUQ6vn5bUe0",
        "outputId": "346bbcb5-9c57-4791-a138-174c0c2e0b7c"
      },
      "execution_count": null,
      "outputs": [
        {
          "output_type": "stream",
          "name": "stdout",
          "text": [
            "Writing CTensor.h\n"
          ]
        }
      ]
    },
    {
      "cell_type": "code",
      "source": [
        "%%writefile main.cpp\n",
        "#include \"ImageLib.h\"\n",
        "#include \"CTensor.h\"\n",
        "#include <iostream>\n",
        "#include <iomanip>\n",
        "#include <thread>\n",
        "#include <chrono>\n",
        "#ifdef _OPENMP\n",
        "#include <omp.h>\n",
        "#endif\n",
        "using namespace std;\n",
        "\n",
        "void print_all_elements(const Tensor3D& tensor) {\n",
        "    int nH, nW, nC;\n",
        "    tensor.get_info(nH, nW, nC);\n",
        "    for (int c = 0; c < nC; c++) {\n",
        "        cout << c << \"-th channel:\" << endl;\n",
        "        for (int h = 0; h < nH; h++) {\n",
        "            for (int w = 0; w < nW; w++) {\n",
        "                cout << setw(4) << tensor.get_elem(h, w, c);\n",
        "            }\n",
        "            cout << endl;\n",
        "        }\n",
        "    }\n",
        "}\n",
        "\n",
        "void fill_serial(Tensor3D& t) {\n",
        "    int H,W,C; t.get_info(H,W,C);\n",
        "    for (int h=0; h<H; h++)\n",
        "        for (int w=0; w<W; w++)\n",
        "            for (int c=0; c<C; c++)\n",
        "                t.set_elem(h,w,c,(h+1)*0.1+(w+1)*0.01+(c+1)*0.001);\n",
        "}\n",
        "\n",
        "void fill_parallel(Tensor3D& t) {\n",
        "    int H,W,C; t.get_info(H,W,C);\n",
        "#ifdef _OPENMP\n",
        "    #pragma omp parallel for collapse(3)\n",
        "#endif\n",
        "    for (int h=0; h<H; h++)\n",
        "        for (int w=0; w<W; w++)\n",
        "            for (int c=0; c<C; c++)\n",
        "                t.set_elem(h,w,c,(h+1)*0.1+(w+1)*0.01+(c+1)*0.001);\n",
        "}\n",
        "\n",
        "int main() {\n",
        "\n",
        "    int nH = 2, nW = 3, nC = 2;\n",
        "    Tensor3D tensor(nH, nW, nC);\n",
        "\n",
        "    tensor.set_elem(0, 0, 0, 1);\n",
        "    tensor.set_elem(1, 1, 0, 2);\n",
        "    tensor.set_elem(0, 0, 1, 3);\n",
        "    tensor.set_elem(1, 2, 1, 4);\n",
        "\n",
        "    print_all_elements(tensor);\n",
        "    tensor.print();\n",
        "\n",
        "    cout << \"\\n===== Hardware Info =====\\n\";\n",
        "    cout << \"CPU threads: \" << thread::hardware_concurrency() << \"\\n\";\n",
        "#ifdef _OPENMP\n",
        "    cout << \"OpenMP max threads: \" << omp_get_max_threads() << \"\\n\";\n",
        "#else\n",
        "    cout << \"OpenMP not available (compile with -fopenmp)\\n\";\n",
        "#endif\n",
        "    cout << \"=========================\\n\";\n",
        "\n",
        "    int BH=512, BW=512, BC=64;\n",
        "    Tensor3D big(BH,BW,BC);\n",
        "\n",
        "    auto t1 = chrono::high_resolution_clock::now();\n",
        "    fill_serial(big);\n",
        "    auto t2 = chrono::high_resolution_clock::now();\n",
        "    double serial_ms = chrono::duration<double,milli>(t2-t1).count();\n",
        "\n",
        "    auto t3 = chrono::high_resolution_clock::now();\n",
        "    fill_parallel(big);\n",
        "    auto t4 = chrono::high_resolution_clock::now();\n",
        "    double parallel_ms = chrono::duration<double,milli>(t4-t3).count();\n",
        "\n",
        "    cout << \"\\n===== Benchmark Result =====\\n\";\n",
        "    cout << \"Serial   : \" << serial_ms   << \" ms\\n\";\n",
        "    cout << \"Parallel : \" << parallel_ms << \" ms\\n\";\n",
        "    cout << \"============================\\n\";\n",
        "\n",
        "    return 0;\n",
        "}"
      ],
      "metadata": {
        "id": "RDZuul2Cf4cF",
        "colab": {
          "base_uri": "https://localhost:8080/"
        },
        "outputId": "9358a601-326b-4f31-8ed6-3ea9d1576d72"
      },
      "execution_count": null,
      "outputs": [
        {
          "output_type": "stream",
          "name": "stdout",
          "text": [
            "Overwriting main.cpp\n"
          ]
        }
      ]
    },
    {
      "cell_type": "code",
      "source": [
        "%%bash\n",
        "g++ -O3 -march=native -fopenmp main.cpp ImageLib.cpp -o run"
      ],
      "metadata": {
        "id": "IFa3Jij4S-Qy"
      },
      "execution_count": null,
      "outputs": []
    },
    {
      "cell_type": "code",
      "source": [
        "%%bash\n",
        "export OMP_NUM_THREADS=$(nproc)\n",
        "./run"
      ],
      "metadata": {
        "colab": {
          "base_uri": "https://localhost:8080/"
        },
        "id": "Pg3IA2YATA34",
        "outputId": "9e6c1135-cdc6-4327-af40-af9b3d960a27"
      },
      "execution_count": null,
      "outputs": [
        {
          "output_type": "stream",
          "name": "stdout",
          "text": [
            "===== Hardware Info =====\n",
            "std::thread::hardware_concurrency(): 2\n",
            "OpenMP available: yes\n",
            "omp_get_max_threads(): 2\n",
            "omp_get_num_procs(): 2\n",
            "CPU: Intel(R) Xeon(R) CPU @ 2.20GHz\n",
            "MemTotal:       13289424 kB\n",
            "=========================\n",
            "\n",
            "0-th channel:\n",
            "   1   0   0\n",
            "   0   2   0\n",
            "1-th channel:\n",
            "   3   0   0\n",
            "   0   0   4\n",
            "Tensor3D size: 2 x 3 x 2 (12 elements)\n",
            "\n",
            "===== Benchmark Tensor =====\n",
            "Size: 1024 x 2048 x 16\n",
            "Serial  : fill 34.010 ms, sum 47.994 ms, total 82.003 ms\n",
            "Parallel: fill 71.069 ms, sum 29.203 ms, total 100.272 ms\n",
            "sum(serial) = 86805315.584000, sum(parallel) = 86805315.584000\n",
            "Speedup (Serial/Parallel): 0.818x\n"
          ]
        }
      ]
    }
  ]
}